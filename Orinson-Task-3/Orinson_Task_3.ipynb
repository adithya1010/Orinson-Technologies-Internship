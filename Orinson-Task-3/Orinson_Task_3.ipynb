{
  "nbformat": 4,
  "nbformat_minor": 0,
  "metadata": {
    "colab": {
      "provenance": [],
      "toc_visible": true,
      "authorship_tag": "ABX9TyNhEWsYFvqh2joVzj/rArDK",
      "include_colab_link": true
    },
    "kernelspec": {
      "name": "python3",
      "display_name": "Python 3"
    },
    "language_info": {
      "name": "python"
    }
  },
  "cells": [
    {
      "cell_type": "markdown",
      "metadata": {
        "id": "view-in-github",
        "colab_type": "text"
      },
      "source": [
        "<a href=\"https://colab.research.google.com/github/adithya1010/Orinson-Technologies-Internship/blob/main/Orinson-Task-3/Orinson_Task_3.ipynb\" target=\"_parent\"><img src=\"https://colab.research.google.com/assets/colab-badge.svg\" alt=\"Open In Colab\"/></a>"
      ]
    },
    {
      "cell_type": "markdown",
      "source": [
        "#Orinson Technologies Internship\n",
        "\n",
        "\n",
        "\n",
        "\n",
        "**Task-3-Build a simple Linear Regression Model to predict a numerical value based on a single feature**\n"
      ],
      "metadata": {
        "id": "0i38axBDS_XU"
      }
    },
    {
      "cell_type": "markdown",
      "source": [
        "Project done with inputs from GPT-4o mini"
      ],
      "metadata": {
        "id": "6Vky_KYxkgBR"
      }
    },
    {
      "cell_type": "markdown",
      "source": [
        "**References:**\n",
        "\n",
        "1. https://www.youtube.com/watch?v=qxo8p8PtFeA\n",
        "2. https://www.spiceworks.com/tech/artificial-intelligence/articles/what-is-linear-regression/\n",
        "3. https://www.youtube.com/watch?v=VaOlkbKQFcY\n",
        "4. https://www.youtube.com/watch?v=XxcALc7Db8Y\n",
        "5. https://www.youtube.com/watch?v=Q-TtIPF0fCU\n",
        "6. https://machinelearningmastery.com/implement-simple-linear-regression-scratch-python/\n",
        "7. https://www.machinelearningnuggets.com/python-linear-regression/\n",
        "8. https://towardsdatascience.com/simple-linear-regression-model-using-python-machine-learning-eab7924d18b4\n",
        "9. https://seaborn.pydata.org/tutorial/regression.html\n",
        "10. https://stackoverflow.com/questions/40941542/using-scikit-learn-linearregression-to-plot-a-linear-fit\n",
        "11. https://www.statology.org/scatterplot-with-regression-line-python/"
      ],
      "metadata": {
        "id": "vd2BDi0FjIga"
      }
    },
    {
      "cell_type": "markdown",
      "source": [
        "**Tech Stack used:**\n",
        "\n",
        "1. Tensorflow\n",
        "2. Pandas\n",
        "3. Numpy\n",
        "4. Matplotlib\n",
        "5. Sklearn\n",
        "6. Google Drive\n",
        "7. GPT-4o mini\n",
        "8. Scre.io\n"
      ],
      "metadata": {
        "id": "ycdeV8WGLf5U"
      }
    },
    {
      "cell_type": "markdown",
      "source": [
        "**Steps involved:**\n",
        "\n",
        "1. Importing libraries\n",
        "2. Creating the dataset\n",
        "3. Defining features\n",
        "4. Splitting the dataset\n",
        "5. Create and Train the Regression model\n",
        "6. Make Predictions\n",
        "7. Evaluate the model\n",
        "8. Visualizing on a scatter plot"
      ],
      "metadata": {
        "id": "LMfRmVk-L6wv"
      }
    },
    {
      "cell_type": "markdown",
      "source": [
        "**Video Link:**\n",
        "\n",
        "[Explanation](https://youtu.be/-SLuWE8j74o)"
      ],
      "metadata": {
        "id": "oJ2CbsI-SYBu"
      }
    },
    {
      "cell_type": "markdown",
      "source": [
        "## Importing libraries"
      ],
      "metadata": {
        "id": "bUSMycqOmEzv"
      }
    },
    {
      "cell_type": "code",
      "execution_count": null,
      "metadata": {
        "id": "Ofbp1o0qS4Z7"
      },
      "outputs": [],
      "source": [
        "import pandas as pd\n",
        "import numpy as np\n",
        "import matplotlib.pyplot as plt\n",
        "from sklearn.model_selection import train_test_split\n",
        "from sklearn.linear_model import LinearRegression\n",
        "from sklearn.metrics import mean_squared_error, r2_score"
      ]
    },
    {
      "cell_type": "markdown",
      "source": [
        "## Create a small dataset"
      ],
      "metadata": {
        "id": "meDLw2zImOWn"
      }
    },
    {
      "cell_type": "code",
      "source": [
        "# Step 1: Create a small dataset\n",
        "data = {\n",
        "    'Hours': [1, 2, 3, 4, 5, 6, 7, 8, 9, 10],\n",
        "    'Scores': [20, 35, 50, 60, 65, 70, 75, 80, 85, 90]\n",
        "}\n",
        "df = pd.DataFrame(data)\n"
      ],
      "metadata": {
        "id": "s6YoGS-3Uile"
      },
      "execution_count": null,
      "outputs": []
    },
    {
      "cell_type": "markdown",
      "source": [
        "## Define the features X and Y"
      ],
      "metadata": {
        "id": "F8I4OSVjmRXD"
      }
    },
    {
      "cell_type": "code",
      "source": [
        "# Step 2: Define the feature (X) and target variable (y)\n",
        "X = df[['Hours']]\n",
        "y = df['Scores']\n"
      ],
      "metadata": {
        "id": "IXHW8pmdUr8k"
      },
      "execution_count": null,
      "outputs": []
    },
    {
      "cell_type": "markdown",
      "source": [
        "## Split the dataset into training and test data"
      ],
      "metadata": {
        "id": "9ufUC_OgmWt0"
      }
    },
    {
      "cell_type": "code",
      "source": [
        "# Step 3: Split the dataset into training and test sets\n",
        "X_train, X_test, y_train, y_test = train_test_split(X, y, test_size=0.2, random_state=42)\n"
      ],
      "metadata": {
        "id": "jnz1LI3tUwdH"
      },
      "execution_count": null,
      "outputs": []
    },
    {
      "cell_type": "markdown",
      "source": [
        "## Create and Train the Regression model"
      ],
      "metadata": {
        "id": "qXBOdA2lmbOJ"
      }
    },
    {
      "cell_type": "code",
      "source": [
        "# Step 4: Create and train the Linear Regression model\n",
        "model = LinearRegression()\n",
        "model.fit(X_train, y_train)"
      ],
      "metadata": {
        "colab": {
          "base_uri": "https://localhost:8080/",
          "height": 74
        },
        "id": "uWzxW9W-U0nR",
        "outputId": "24a01d0c-a2a4-434f-bfa8-241c8328a5e2"
      },
      "execution_count": null,
      "outputs": [
        {
          "output_type": "execute_result",
          "data": {
            "text/plain": [
              "LinearRegression()"
            ],
            "text/html": [
              "<style>#sk-container-id-2 {color: black;}#sk-container-id-2 pre{padding: 0;}#sk-container-id-2 div.sk-toggleable {background-color: white;}#sk-container-id-2 label.sk-toggleable__label {cursor: pointer;display: block;width: 100%;margin-bottom: 0;padding: 0.3em;box-sizing: border-box;text-align: center;}#sk-container-id-2 label.sk-toggleable__label-arrow:before {content: \"▸\";float: left;margin-right: 0.25em;color: #696969;}#sk-container-id-2 label.sk-toggleable__label-arrow:hover:before {color: black;}#sk-container-id-2 div.sk-estimator:hover label.sk-toggleable__label-arrow:before {color: black;}#sk-container-id-2 div.sk-toggleable__content {max-height: 0;max-width: 0;overflow: hidden;text-align: left;background-color: #f0f8ff;}#sk-container-id-2 div.sk-toggleable__content pre {margin: 0.2em;color: black;border-radius: 0.25em;background-color: #f0f8ff;}#sk-container-id-2 input.sk-toggleable__control:checked~div.sk-toggleable__content {max-height: 200px;max-width: 100%;overflow: auto;}#sk-container-id-2 input.sk-toggleable__control:checked~label.sk-toggleable__label-arrow:before {content: \"▾\";}#sk-container-id-2 div.sk-estimator input.sk-toggleable__control:checked~label.sk-toggleable__label {background-color: #d4ebff;}#sk-container-id-2 div.sk-label input.sk-toggleable__control:checked~label.sk-toggleable__label {background-color: #d4ebff;}#sk-container-id-2 input.sk-hidden--visually {border: 0;clip: rect(1px 1px 1px 1px);clip: rect(1px, 1px, 1px, 1px);height: 1px;margin: -1px;overflow: hidden;padding: 0;position: absolute;width: 1px;}#sk-container-id-2 div.sk-estimator {font-family: monospace;background-color: #f0f8ff;border: 1px dotted black;border-radius: 0.25em;box-sizing: border-box;margin-bottom: 0.5em;}#sk-container-id-2 div.sk-estimator:hover {background-color: #d4ebff;}#sk-container-id-2 div.sk-parallel-item::after {content: \"\";width: 100%;border-bottom: 1px solid gray;flex-grow: 1;}#sk-container-id-2 div.sk-label:hover label.sk-toggleable__label {background-color: #d4ebff;}#sk-container-id-2 div.sk-serial::before {content: \"\";position: absolute;border-left: 1px solid gray;box-sizing: border-box;top: 0;bottom: 0;left: 50%;z-index: 0;}#sk-container-id-2 div.sk-serial {display: flex;flex-direction: column;align-items: center;background-color: white;padding-right: 0.2em;padding-left: 0.2em;position: relative;}#sk-container-id-2 div.sk-item {position: relative;z-index: 1;}#sk-container-id-2 div.sk-parallel {display: flex;align-items: stretch;justify-content: center;background-color: white;position: relative;}#sk-container-id-2 div.sk-item::before, #sk-container-id-2 div.sk-parallel-item::before {content: \"\";position: absolute;border-left: 1px solid gray;box-sizing: border-box;top: 0;bottom: 0;left: 50%;z-index: -1;}#sk-container-id-2 div.sk-parallel-item {display: flex;flex-direction: column;z-index: 1;position: relative;background-color: white;}#sk-container-id-2 div.sk-parallel-item:first-child::after {align-self: flex-end;width: 50%;}#sk-container-id-2 div.sk-parallel-item:last-child::after {align-self: flex-start;width: 50%;}#sk-container-id-2 div.sk-parallel-item:only-child::after {width: 0;}#sk-container-id-2 div.sk-dashed-wrapped {border: 1px dashed gray;margin: 0 0.4em 0.5em 0.4em;box-sizing: border-box;padding-bottom: 0.4em;background-color: white;}#sk-container-id-2 div.sk-label label {font-family: monospace;font-weight: bold;display: inline-block;line-height: 1.2em;}#sk-container-id-2 div.sk-label-container {text-align: center;}#sk-container-id-2 div.sk-container {/* jupyter's `normalize.less` sets `[hidden] { display: none; }` but bootstrap.min.css set `[hidden] { display: none !important; }` so we also need the `!important` here to be able to override the default hidden behavior on the sphinx rendered scikit-learn.org. See: https://github.com/scikit-learn/scikit-learn/issues/21755 */display: inline-block !important;position: relative;}#sk-container-id-2 div.sk-text-repr-fallback {display: none;}</style><div id=\"sk-container-id-2\" class=\"sk-top-container\"><div class=\"sk-text-repr-fallback\"><pre>LinearRegression()</pre><b>In a Jupyter environment, please rerun this cell to show the HTML representation or trust the notebook. <br />On GitHub, the HTML representation is unable to render, please try loading this page with nbviewer.org.</b></div><div class=\"sk-container\" hidden><div class=\"sk-item\"><div class=\"sk-estimator sk-toggleable\"><input class=\"sk-toggleable__control sk-hidden--visually\" id=\"sk-estimator-id-2\" type=\"checkbox\" checked><label for=\"sk-estimator-id-2\" class=\"sk-toggleable__label sk-toggleable__label-arrow\">LinearRegression</label><div class=\"sk-toggleable__content\"><pre>LinearRegression()</pre></div></div></div></div></div>"
            ]
          },
          "metadata": {},
          "execution_count": 15
        }
      ]
    },
    {
      "cell_type": "markdown",
      "source": [
        "## Make Predictions"
      ],
      "metadata": {
        "id": "59c7TCcbmj4q"
      }
    },
    {
      "cell_type": "code",
      "source": [
        "# Step 5: Make predictions\n",
        "y_pred = model.predict(X_test)"
      ],
      "metadata": {
        "id": "bqpLSJETZuUG"
      },
      "execution_count": null,
      "outputs": []
    },
    {
      "cell_type": "markdown",
      "source": [
        "## Evaluate the model"
      ],
      "metadata": {
        "id": "wjd-8Rwxmna6"
      }
    },
    {
      "cell_type": "code",
      "source": [
        "# Evaluate the model\n",
        "mse = mean_squared_error(y_test, y_pred)\n",
        "r2 = r2_score(y_test, y_pred)"
      ],
      "metadata": {
        "id": "XqB67aQyZxdp"
      },
      "execution_count": null,
      "outputs": []
    },
    {
      "cell_type": "code",
      "source": [
        "print(f'Mean Squared Error: {mse:.2f}')\n",
        "print(f'R-squared: {r2:.2f}')"
      ],
      "metadata": {
        "colab": {
          "base_uri": "https://localhost:8080/"
        },
        "id": "tizvMSkeZ0IB",
        "outputId": "7a5f27f6-1611-4708-8d04-55762aa349fc"
      },
      "execution_count": null,
      "outputs": [
        {
          "output_type": "stream",
          "name": "stdout",
          "text": [
            "Mean Squared Error: 14.06\n",
            "R-squared: 0.98\n"
          ]
        }
      ]
    },
    {
      "cell_type": "markdown",
      "source": [
        "## Visualizing on a scatter plot"
      ],
      "metadata": {
        "id": "M48k_0cvmrH3"
      }
    },
    {
      "cell_type": "code",
      "source": [
        "import matplotlib.pyplot as plt\n",
        "\n",
        "# Assuming X and y are your feature and target variable used to fit the model\n",
        "# Assuming 'model' is your trained LinearRegression model\n",
        "\n",
        "# Create a scatter plot of the actual data points\n",
        "plt.scatter(X, y, color='blue', label='Actual data')\n",
        "\n",
        "# Plot the regression line\n",
        "plt.plot(X, model.predict(X), color='red', linewidth=2, label='Regression line')\n",
        "\n",
        "# Add labels and title\n",
        "plt.title('Study Hours vs. Scores with Regression Line')\n",
        "plt.xlabel('Hours of Study')\n",
        "plt.ylabel('Scores')\n",
        "plt.legend()\n",
        "\n",
        "# Show the plot\n",
        "plt.show()"
      ],
      "metadata": {
        "colab": {
          "base_uri": "https://localhost:8080/",
          "height": 472
        },
        "id": "LmW9ZlhBZ4y9",
        "outputId": "05069d5a-e026-4ed2-e343-3bc92123b50c"
      },
      "execution_count": null,
      "outputs": [
        {
          "output_type": "display_data",
          "data": {
            "text/plain": [
              "<Figure size 640x480 with 1 Axes>"
            ],
            "image/png": "[encoded data removed]"
          },
          "metadata": {}
        }
      ]
    }
  ]
}